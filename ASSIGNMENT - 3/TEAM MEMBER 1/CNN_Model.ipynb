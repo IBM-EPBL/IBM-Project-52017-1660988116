{
  "nbformat": 4,
  "nbformat_minor": 0,
  "metadata": {
    "colab": {
      "private_outputs": true,
      "provenance": [],
      "collapsed_sections": []
    },
    "kernelspec": {
      "name": "python3",
      "display_name": "Python 3"
    },
    "language_info": {
      "name": "python"
    }
  },
  "cells": [
    {
      "cell_type": "markdown",
      "source": [
        "Flower Dataset"
      ],
      "metadata": {
        "id": "4_3m9JM_6H3M"
      }
    },
    {
      "cell_type": "code",
      "execution_count": null,
      "metadata": {
        "id": "t-V1Y60pWh6P"
      },
      "outputs": [],
      "source": [
        "ls"
      ]
    },
    {
      "cell_type": "code",
      "source": [
        "\n",
        "cd/content/drive/MyDrive/CNN"
      ],
      "metadata": {
        "id": "dXZvxmrWXXIp"
      },
      "execution_count": null,
      "outputs": []
    },
    {
      "cell_type": "code",
      "source": [
        "ls"
      ],
      "metadata": {
        "id": "LoQFfreKZTw-"
      },
      "execution_count": null,
      "outputs": []
    },
    {
      "cell_type": "code",
      "source": [
        "pwd"
      ],
      "metadata": {
        "id": "VVUeSCidZex9"
      },
      "execution_count": null,
      "outputs": []
    },
    {
      "cell_type": "markdown",
      "source": [
        "Download the Dataset"
      ],
      "metadata": {
        "id": "fBFM4StsIKNz"
      }
    },
    {
      "cell_type": "code",
      "source": [
        "!unzip Flowers-Dataset.zip"
      ],
      "metadata": {
        "id": "WYww-wslbCuz"
      },
      "execution_count": null,
      "outputs": []
    },
    {
      "cell_type": "markdown",
      "source": [
        "Image Augmentation"
      ],
      "metadata": {
        "id": "y0Yko277IAUl"
      }
    },
    {
      "cell_type": "code",
      "source": [
        "from tensorflow.keras.preprocessing.image import ImageDataGenerator"
      ],
      "metadata": {
        "id": "_9iIG9m5bUpk"
      },
      "execution_count": null,
      "outputs": []
    },
    {
      "cell_type": "markdown",
      "source": [
        "Create model"
      ],
      "metadata": {
        "id": "PczZDdDsKjg2"
      }
    },
    {
      "cell_type": "code",
      "source": [
        "ImageDataGenerator(rescale = 1.255,horizontal_flip= True,vertical_flip= True,zoom_range= 0.2)"
      ],
      "metadata": {
        "id": "tYSHpygqlELu"
      },
      "execution_count": null,
      "outputs": []
    },
    {
      "cell_type": "code",
      "source": [
        "train_datagen = ImageDataGenerator(rescale = 1./255,horizontal_flip= True,vertical_flip= True,zoom_range= 0.2)"
      ],
      "metadata": {
        "id": "_iHDhp3ddsmz"
      },
      "execution_count": null,
      "outputs": []
    },
    {
      "cell_type": "code",
      "source": [
        "test_datagen = ImageDataGenerator(rescale = 1./255)"
      ],
      "metadata": {
        "id": "Cm0-2qvFfrQa"
      },
      "execution_count": null,
      "outputs": []
    },
    {
      "cell_type": "markdown",
      "source": [
        "Test the Model"
      ],
      "metadata": {
        "id": "HlNcpiBKIZlX"
      }
    },
    {
      "cell_type": "code",
      "source": [
        "x_train = train_datagen.flow_from_directory(r\"/content/drive/MyDrive/CNN/flowers\",target_size = (64,64),class_mode=\"categorical\",batch_size=24)"
      ],
      "metadata": {
        "id": "7NDZvBz3dsLW"
      },
      "execution_count": null,
      "outputs": []
    },
    {
      "cell_type": "code",
      "source": [
        "x_test = test_datagen.flow_from_directory(r\"/content/drive/MyDrive/CNN/flowers\",target_size=(64,64),class_mode=\"categorical\",batch_size=24)    "
      ],
      "metadata": {
        "id": "rPDPbTzseb1C"
      },
      "execution_count": null,
      "outputs": []
    },
    {
      "cell_type": "markdown",
      "source": [
        "Add Layers ( convolution, Maxpooling, Dense - Hidden layers, output )"
      ],
      "metadata": {
        "id": "wRKrigU-I77B"
      }
    },
    {
      "cell_type": "code",
      "source": [
        "from tensorflow.keras.models import Sequential\n",
        "from tensorflow.keras.layers import Convolution2D,MaxPooling2D,Flatten,Dense\n",
        "      "
      ],
      "metadata": {
        "id": "D0atOl39ewUH"
      },
      "execution_count": null,
      "outputs": []
    },
    {
      "cell_type": "code",
      "source": [
        "model = Sequential()"
      ],
      "metadata": {
        "id": "GZ-lPNpUeww0"
      },
      "execution_count": null,
      "outputs": []
    },
    {
      "cell_type": "code",
      "source": [
        "model.add(Convolution2D(32,(3,3),activation = \"relu\",input_shape = (64,64,3)))\n",
        "    "
      ],
      "metadata": {
        "id": "9ai9lNPxfGoG"
      },
      "execution_count": null,
      "outputs": []
    },
    {
      "cell_type": "code",
      "source": [
        "model.add(MaxPooling2D(pool_size = (2,2)))"
      ],
      "metadata": {
        "id": "PuoY6RoAfHDM"
      },
      "execution_count": null,
      "outputs": []
    },
    {
      "cell_type": "code",
      "source": [
        "model.add(Flatten())"
      ],
      "metadata": {
        "id": "cO2CzJCOffsB"
      },
      "execution_count": null,
      "outputs": []
    },
    {
      "cell_type": "code",
      "source": [
        "model.add(Dense(300, activation='relu'))"
      ],
      "metadata": {
        "id": "oZOGHZKSfgNb"
      },
      "execution_count": null,
      "outputs": []
    },
    {
      "cell_type": "code",
      "source": [
        "model.add(Dense(300, activation='relu'))"
      ],
      "metadata": {
        "id": "cfmY0F1ifgoi"
      },
      "execution_count": null,
      "outputs": []
    },
    {
      "cell_type": "code",
      "source": [
        "model.add(Dense(5, activation=\"softmax\"))"
      ],
      "metadata": {
        "id": "qsQ7m_Z_fyiQ"
      },
      "execution_count": null,
      "outputs": []
    },
    {
      "cell_type": "markdown",
      "source": [
        "Compile the model"
      ],
      "metadata": {
        "id": "JF-FDSTAJgjP"
      }
    },
    {
      "cell_type": "code",
      "source": [
        "model.compile(loss=\"categorical_crossentropy\", metrics = [\"accuracy\"], optimizer = 'adam')\n",
        "    "
      ],
      "metadata": {
        "id": "5jsZMLH6fzAv"
      },
      "execution_count": null,
      "outputs": []
    },
    {
      "cell_type": "code",
      "source": [
        "len(x_train)"
      ],
      "metadata": {
        "id": "i0N2t5CIfzfd"
      },
      "execution_count": null,
      "outputs": []
    },
    {
      "cell_type": "markdown",
      "source": [
        "Fit the model"
      ],
      "metadata": {
        "id": "QqFzTwOOJlXA"
      }
    },
    {
      "cell_type": "code",
      "source": [
        "model.fit(x_train, epochs = 5, validation_data = x_test, steps_per_epoch = len(x_train), validation_steps = (x_test))\n",
        "      "
      ],
      "metadata": {
        "id": "srBlaGb8fzrT"
      },
      "execution_count": null,
      "outputs": []
    },
    {
      "cell_type": "markdown",
      "source": [
        "Save the model"
      ],
      "metadata": {
        "id": "b_IsMmeSJpoJ"
      }
    },
    {
      "cell_type": "code",
      "source": [
        "model.save(\"flower1.h5\")"
      ],
      "metadata": {
        "id": "CtLHgja9fz2z"
      },
      "execution_count": null,
      "outputs": []
    }
  ]
}