{
  "nbformat": 4,
  "nbformat_minor": 0,
  "metadata": {
    "colab": {
      "private_outputs": true,
      "provenance": [],
      "collapsed_sections": []
    },
    "kernelspec": {
      "name": "python3",
      "display_name": "Python 3"
    },
    "language_info": {
      "name": "python"
    }
  },
  "cells": [
    {
      "cell_type": "markdown",
      "source": [
        "# **Image** **Preprocessing**"
      ],
      "metadata": {
        "id": "Zm95ljuv6OAd"
      }
    },
    {
      "cell_type": "markdown",
      "source": [
        "Import ImageDataGenerator Library"
      ],
      "metadata": {
        "id": "g4XVqwr058dc"
      }
    },
    {
      "cell_type": "code",
      "execution_count": null,
      "metadata": {
        "id": "xself2bUAJb3"
      },
      "outputs": [],
      "source": [
        "from tensorflow.keras.preprocessing.image import ImageDataGenerator"
      ]
    },
    {
      "cell_type": "markdown",
      "source": [
        "Configure ImageDataGenerator Class"
      ],
      "metadata": {
        "id": "cTp3dgNV5_BL"
      }
    },
    {
      "cell_type": "code",
      "source": [
        "train_datagen = ImageDataGenerator(rescale = 1./255,shear_range = 0.2,zoom_range = 0.2,horizontal_flip = True)\n",
        "test_datagen = ImageDataGenerator(rescale = 1./255)"
      ],
      "metadata": {
        "id": "aDpZWUjXAWl1"
      },
      "execution_count": null,
      "outputs": []
    },
    {
      "cell_type": "markdown",
      "source": [
        "Applying ImageDataGenerator functionality to the train set and test set"
      ],
      "metadata": {
        "id": "3A95GSSU6De9"
      }
    },
    {
      "cell_type": "code",
      "source": [
        "x_train = train_datagen.flow_from_directory(\"/content/drive/MyDrive/TRAIN\",target_size = (64,64),batch_size = 32,class_mode = \"categorical\")\n",
        "x_test = test_datagen.flow_from_directory(\"/content/drive/MyDrive/TEST\",target_size = (64,64),batch_size = 32,class_mode = \"categorical\")"
      ],
      "metadata": {
        "id": "Vxkmh2bVAbvK"
      },
      "execution_count": null,
      "outputs": []
    }
  ]
}